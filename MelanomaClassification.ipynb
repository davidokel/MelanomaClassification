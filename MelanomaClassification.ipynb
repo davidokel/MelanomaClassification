{
 "cells": [
  {
   "cell_type": "markdown",
   "metadata": {
    "colab_type": "text",
    "id": "view-in-github"
   },
   "source": [
    "<a href=\"https://colab.research.google.com/github/davidokel/MelanomaClassification/blob/main/MelanomaClassification.ipynb\" target=\"_parent\"><img src=\"https://colab.research.google.com/assets/colab-badge.svg\" alt=\"Open In Colab\"/></a>"
   ]
  },
  {
   "cell_type": "markdown",
   "metadata": {
    "id": "En2x2zzrYQEu"
   },
   "source": [
    "Classification of Melanoma images"
   ]
  },
  {
   "cell_type": "markdown",
   "metadata": {
    "id": "knoVy1emYK1d"
   },
   "source": [
    "# Preamble and data processing"
   ]
  },
  {
   "cell_type": "code",
   "execution_count": 43,
   "metadata": {
    "colab": {
     "base_uri": "https://localhost:8080/"
    },
    "id": "q4KcQgy8qwWQ",
    "outputId": "efe1de94-429c-4a99-b876-c1e459d1b994"
   },
   "outputs": [],
   "source": [
    "import tensorflow as tf\n",
    "import tensorflow_datasets as tfds\n",
    "import matplotlib.pyplot as plt\n",
    "import numpy as np\n",
    "import os\n",
    "\n",
    "AUTO = tf.data.AUTOTUNE\n",
    "\n",
    "\n",
    "dir=\"archive\"\n"
   ]
  },
  {
   "cell_type": "code",
   "execution_count": 44,
   "outputs": [
    {
     "name": "stdout",
     "output_type": "stream",
     "text": [
      "GPU name:  []\n",
      "[name: \"/device:CPU:0\"\n",
      "device_type: \"CPU\"\n",
      "memory_limit: 268435456\n",
      "locality {\n",
      "}\n",
      "incarnation: 7065770617953565842\n",
      "xla_global_id: -1\n",
      "]\n",
      "GPU:  \n"
     ]
    }
   ],
   "source": [
    "print('GPU name: ', tf.config.experimental.list_physical_devices('GPU'))\n",
    "from tensorflow.python.client import device_lib\n",
    "print(device_lib.list_local_devices())\n",
    "print(\"GPU: \",tf.test.gpu_device_name())"
   ],
   "metadata": {
    "collapsed": false
   }
  },
  {
   "cell_type": "code",
   "execution_count": 45,
   "metadata": {
    "colab": {
     "base_uri": "https://localhost:8080/"
    },
    "id": "XRYNNuIecAj5",
    "outputId": "dfc0f3d8-16d0-472c-92eb-6a29e4d4e1ed"
   },
   "outputs": [
    {
     "name": "stdout",
     "output_type": "stream",
     "text": [
      "Train TFRecord Files: 13\n",
      "Validation TFRecord Files: 2\n",
      "Test TFRecord Files: 16\n"
     ]
    }
   ],
   "source": [
    "image_size=(512,512)\n",
    "image_shape = [*image_size, 3]\n",
    "batch_size = 16\n",
    "\n",
    "FILENAMES = tf.io.gfile.glob(dir + \"/train*.tfrec\")\n",
    "split_ind = int(0.9 * len(FILENAMES))\n",
    "TRAINING_FILENAMES, VALID_FILENAMES = FILENAMES[:split_ind], FILENAMES[split_ind:]\n",
    "\n",
    "TEST_FILENAMES = tf.io.gfile.glob(dir + \"/test*.tfrec\")\n",
    "print(\"Train TFRecord Files:\", len(TRAINING_FILENAMES))\n",
    "print(\"Validation TFRecord Files:\", len(VALID_FILENAMES))\n",
    "print(\"Test TFRecord Files:\", len(TEST_FILENAMES))\n",
    "\n",
    "tfrec_format = {\n",
    "    'image'                        : tf.io.FixedLenFeature([], tf.string),\n",
    "    'image_name'                   : tf.io.FixedLenFeature([], tf.string),\n",
    "    'patient_id'                   : tf.io.FixedLenFeature([], tf.int64),\n",
    "    'sex'                          : tf.io.FixedLenFeature([], tf.int64),\n",
    "    'age_approx'                   : tf.io.FixedLenFeature([], tf.int64),\n",
    "    'anatom_site_general_challenge': tf.io.FixedLenFeature([], tf.int64),\n",
    "    'diagnosis'                    : tf.io.FixedLenFeature([], tf.int64),\n",
    "    'target'                       : tf.io.FixedLenFeature([], tf.int64)\n",
    "}\n",
    "\n",
    "unlabelled_tfrec_format = {\n",
    "        'image'                        : tf.io.FixedLenFeature([], tf.string),\n",
    "        'image_name'                   : tf.io.FixedLenFeature([], tf.string),\n",
    "    }"
   ]
  },
  {
   "cell_type": "code",
   "execution_count": 46,
   "metadata": {
    "id": "gyycD1yn3quJ"
   },
   "outputs": [],
   "source": [
    "def read_tfrecord(example, labelled = True):\n",
    "  if labelled:           \n",
    "    example = tf.io.parse_single_example(example, tfrec_format)\n",
    "    return example[\"image\"], example[\"target\"]\n",
    "  else:\n",
    "    example = tf.io.parse_single_example(example, unlabelled_tfrec_format)\n",
    "    return example[\"image\"], example[\"image_name\"]\n",
    "  return example\n",
    "\n",
    "\n",
    "def prepare_image(img, img_name, augment=True):\n",
    "    img = tf.image.decode_jpeg(img, channels=3)\n",
    "    img = tf.cast(img, tf.float32) #/ 255.0\n",
    "    img = tf.keras.applications.mobilenet_v2.preprocess_input(img)\n",
    "    img = tf.reshape(img, [*image_size, 3])\n",
    "    if augment:\n",
    "        img = tf.image.random_flip_left_right(img)\n",
    "        img = tf.image.random_saturation(img, 0.7, 1.3)\n",
    "        img = tf.image.random_contrast(img, 0.8, 1.2)\n",
    "        img = tf.image.random_brightness(img, 0.1)\n",
    "\n",
    "    return img, img_name\n",
    "\n",
    "\n",
    "def get_dataset(filenames, labelled = True, batch = True, filter=None, is_jpeg=False):\n",
    "  if is_jpeg:\n",
    "    builder = tfds.ImageFolder(filenames)\n",
    "    raw_dataset = builder.as_dataset(split=[], shuffle_files=True)\n",
    "  else:\n",
    "    raw_dataset = tf.data.TFRecordDataset(filenames)\n",
    "  raw_dataset = raw_dataset.cache()\n",
    "  raw_dataset = raw_dataset.shuffle(1024)\n",
    "  opt = tf.data.Options()\n",
    "  opt.experimental_deterministic = False\n",
    "  raw_dataset = raw_dataset.with_options(opt)\n",
    "\n",
    "  raw_dataset = raw_dataset.map(lambda element: read_tfrecord(element, labelled))\n",
    "  raw_dataset = raw_dataset.map(lambda img, img_name: prepare_image(img, img_name, False))\n",
    "\n",
    "  if batch:\n",
    "    raw_dataset = raw_dataset.batch(batch_size)\n",
    "  \n",
    "  return raw_dataset\n",
    "\n",
    "def show_batch(dataset):\n",
    "  plt.figure(figsize=(10,10))\n",
    "  n = 0\n",
    "  for x,y in dataset.take(9):\n",
    "    ax = plt.subplot(3,3, n+1)\n",
    "    plt.imshow(x)\n",
    "    if y:\n",
    "        plt.title(\"MALIGNANT\")\n",
    "    else:\n",
    "        plt.title(\"BENIGN\")\n",
    "    plt.axis(\"off\")\n",
    "    n += 1"
   ]
  },
  {
   "cell_type": "code",
   "execution_count": 47,
   "metadata": {
    "id": "LcIgu38CV93t"
   },
   "outputs": [],
   "source": [
    "def filter_by_target(ds, target):\n",
    "  filtered = ds.filter(lambda img, label: label == target)\n",
    "  return filtered"
   ]
  },
  {
   "cell_type": "code",
   "execution_count": 48,
   "metadata": {
    "id": "bW8ugKjnGnXE"
   },
   "outputs": [],
   "source": [
    "full_training_set = get_dataset(TRAINING_FILENAMES, batch=False)\n",
    "full_valid_set = get_dataset(VALID_FILENAMES, batch=False)\n",
    "full_test_set = get_dataset(TEST_FILENAMES, batch=False)"
   ]
  },
  {
   "cell_type": "code",
   "execution_count": 18,
   "metadata": {
    "id": "XZ5EW4v1JKAS"
   },
   "outputs": [],
   "source": [
    "size = 300\n",
    "pos_ds = filter_by_target(full_training_set, 1)\n",
    "neg_ds = filter_by_target(full_training_set, 0)\n",
    "\n",
    "small_training_ds = pos_ds.take(size).concatenate(neg_ds.take(size*2)).shuffle(size*3)\n",
    "training_set = small_training_ds.take(size)\n",
    "valid_set = full_valid_set.take(size)\n",
    "test_set = full_test_set.take(size)"
   ]
  },
  {
   "cell_type": "code",
   "execution_count": 49,
   "metadata": {
    "id": "4L-CHM2yfckB"
   },
   "outputs": [],
   "source": [
    "size = 2000\n",
    "pos_ds = filter_by_target(full_training_set, 1)\n",
    "neg_ds = filter_by_target(full_training_set, 0)\n",
    "\n",
    "small_training_ds = pos_ds.take(-1).concatenate(neg_ds.take(size)).shuffle(size)\n",
    "training_set = small_training_ds.take(size)\n",
    "valid_set = full_valid_set.take(size)\n",
    "test_set = full_test_set.take(size)"
   ]
  },
  {
   "cell_type": "code",
   "execution_count": 3,
   "outputs": [
    {
     "ename": "NameError",
     "evalue": "name 'full_test_set' is not defined",
     "output_type": "error",
     "traceback": [
      "\u001B[1;31m---------------------------------------------------------------------------\u001B[0m",
      "\u001B[1;31mNameError\u001B[0m                                 Traceback (most recent call last)",
      "Cell \u001B[1;32mIn [3], line 1\u001B[0m\n\u001B[1;32m----> 1\u001B[0m test_set \u001B[38;5;241m=\u001B[39m \u001B[43mfull_test_set\u001B[49m\u001B[38;5;241m.\u001B[39mtake(size)\n",
      "\u001B[1;31mNameError\u001B[0m: name 'full_test_set' is not defined"
     ]
    }
   ],
   "source": [],
   "metadata": {
    "collapsed": false
   }
  },
  {
   "cell_type": "markdown",
   "metadata": {
    "id": "LjJ0h_PoXhWv"
   },
   "source": [
    "Augmenting Data"
   ]
  },
  {
   "cell_type": "code",
   "execution_count": 50,
   "metadata": {
    "id": "zPq5AtOWGk45"
   },
   "outputs": [],
   "source": [
    "def count_bins(ds):\n",
    "  pos = 0\n",
    "  neg = 0\n",
    "  for x,y in ds:\n",
    "    if y == 0:\n",
    "      neg += 1\n",
    "    else:\n",
    "      pos += 1\n",
    "\n",
    "  return neg, pos"
   ]
  },
  {
   "cell_type": "code",
   "execution_count": 9,
   "outputs": [
    {
     "ename": "KeyboardInterrupt",
     "evalue": "",
     "output_type": "error",
     "traceback": [
      "\u001B[1;31m---------------------------------------------------------------------------\u001B[0m",
      "\u001B[1;31mKeyboardInterrupt\u001B[0m                         Traceback (most recent call last)",
      "Cell \u001B[1;32mIn [9], line 1\u001B[0m\n\u001B[1;32m----> 1\u001B[0m neg, pos \u001B[38;5;241m=\u001B[39m \u001B[43mcount_bins\u001B[49m\u001B[43m(\u001B[49m\u001B[43mfull_training_set\u001B[49m\u001B[43m)\u001B[49m\n\u001B[0;32m      2\u001B[0m \u001B[38;5;28mprint\u001B[39m(\u001B[38;5;124m\"\u001B[39m\u001B[38;5;124mNegative: \u001B[39m\u001B[38;5;124m\"\u001B[39m, neg)\n\u001B[0;32m      3\u001B[0m \u001B[38;5;28mprint\u001B[39m(\u001B[38;5;124m\"\u001B[39m\u001B[38;5;124mPositive: \u001B[39m\u001B[38;5;124m\"\u001B[39m, pos)\n",
      "Cell \u001B[1;32mIn [8], line 4\u001B[0m, in \u001B[0;36mcount_bins\u001B[1;34m(ds)\u001B[0m\n\u001B[0;32m      2\u001B[0m pos \u001B[38;5;241m=\u001B[39m \u001B[38;5;241m0\u001B[39m\n\u001B[0;32m      3\u001B[0m neg \u001B[38;5;241m=\u001B[39m \u001B[38;5;241m0\u001B[39m\n\u001B[1;32m----> 4\u001B[0m \u001B[38;5;28;01mfor\u001B[39;00m x,y \u001B[38;5;129;01min\u001B[39;00m ds:\n\u001B[0;32m      5\u001B[0m   \u001B[38;5;28;01mif\u001B[39;00m y \u001B[38;5;241m==\u001B[39m \u001B[38;5;241m0\u001B[39m:\n\u001B[0;32m      6\u001B[0m     neg \u001B[38;5;241m+\u001B[39m\u001B[38;5;241m=\u001B[39m \u001B[38;5;241m1\u001B[39m\n",
      "File \u001B[1;32mC:\\ProgramData\\Anaconda3\\envs\\ML\\lib\\site-packages\\tensorflow\\python\\data\\ops\\iterator_ops.py:766\u001B[0m, in \u001B[0;36mOwnedIterator.__next__\u001B[1;34m(self)\u001B[0m\n\u001B[0;32m    764\u001B[0m \u001B[38;5;28;01mdef\u001B[39;00m \u001B[38;5;21m__next__\u001B[39m(\u001B[38;5;28mself\u001B[39m):\n\u001B[0;32m    765\u001B[0m   \u001B[38;5;28;01mtry\u001B[39;00m:\n\u001B[1;32m--> 766\u001B[0m     \u001B[38;5;28;01mreturn\u001B[39;00m \u001B[38;5;28;43mself\u001B[39;49m\u001B[38;5;241;43m.\u001B[39;49m\u001B[43m_next_internal\u001B[49m\u001B[43m(\u001B[49m\u001B[43m)\u001B[49m\n\u001B[0;32m    767\u001B[0m   \u001B[38;5;28;01mexcept\u001B[39;00m errors\u001B[38;5;241m.\u001B[39mOutOfRangeError:\n\u001B[0;32m    768\u001B[0m     \u001B[38;5;28;01mraise\u001B[39;00m \u001B[38;5;167;01mStopIteration\u001B[39;00m\n",
      "File \u001B[1;32mC:\\ProgramData\\Anaconda3\\envs\\ML\\lib\\site-packages\\tensorflow\\python\\data\\ops\\iterator_ops.py:749\u001B[0m, in \u001B[0;36mOwnedIterator._next_internal\u001B[1;34m(self)\u001B[0m\n\u001B[0;32m    746\u001B[0m \u001B[38;5;66;03m# TODO(b/77291417): This runs in sync mode as iterators use an error status\u001B[39;00m\n\u001B[0;32m    747\u001B[0m \u001B[38;5;66;03m# to communicate that there is no more data to iterate over.\u001B[39;00m\n\u001B[0;32m    748\u001B[0m \u001B[38;5;28;01mwith\u001B[39;00m context\u001B[38;5;241m.\u001B[39mexecution_mode(context\u001B[38;5;241m.\u001B[39mSYNC):\n\u001B[1;32m--> 749\u001B[0m   ret \u001B[38;5;241m=\u001B[39m \u001B[43mgen_dataset_ops\u001B[49m\u001B[38;5;241;43m.\u001B[39;49m\u001B[43miterator_get_next\u001B[49m\u001B[43m(\u001B[49m\n\u001B[0;32m    750\u001B[0m \u001B[43m      \u001B[49m\u001B[38;5;28;43mself\u001B[39;49m\u001B[38;5;241;43m.\u001B[39;49m\u001B[43m_iterator_resource\u001B[49m\u001B[43m,\u001B[49m\n\u001B[0;32m    751\u001B[0m \u001B[43m      \u001B[49m\u001B[43moutput_types\u001B[49m\u001B[38;5;241;43m=\u001B[39;49m\u001B[38;5;28;43mself\u001B[39;49m\u001B[38;5;241;43m.\u001B[39;49m\u001B[43m_flat_output_types\u001B[49m\u001B[43m,\u001B[49m\n\u001B[0;32m    752\u001B[0m \u001B[43m      \u001B[49m\u001B[43moutput_shapes\u001B[49m\u001B[38;5;241;43m=\u001B[39;49m\u001B[38;5;28;43mself\u001B[39;49m\u001B[38;5;241;43m.\u001B[39;49m\u001B[43m_flat_output_shapes\u001B[49m\u001B[43m)\u001B[49m\n\u001B[0;32m    754\u001B[0m   \u001B[38;5;28;01mtry\u001B[39;00m:\n\u001B[0;32m    755\u001B[0m     \u001B[38;5;66;03m# Fast path for the case `self._structure` is not a nested structure.\u001B[39;00m\n\u001B[0;32m    756\u001B[0m     \u001B[38;5;28;01mreturn\u001B[39;00m \u001B[38;5;28mself\u001B[39m\u001B[38;5;241m.\u001B[39m_element_spec\u001B[38;5;241m.\u001B[39m_from_compatible_tensor_list(ret)  \u001B[38;5;66;03m# pylint: disable=protected-access\u001B[39;00m\n",
      "File \u001B[1;32mC:\\ProgramData\\Anaconda3\\envs\\ML\\lib\\site-packages\\tensorflow\\python\\ops\\gen_dataset_ops.py:3011\u001B[0m, in \u001B[0;36miterator_get_next\u001B[1;34m(iterator, output_types, output_shapes, name)\u001B[0m\n\u001B[0;32m   3009\u001B[0m \u001B[38;5;28;01mif\u001B[39;00m tld\u001B[38;5;241m.\u001B[39mis_eager:\n\u001B[0;32m   3010\u001B[0m   \u001B[38;5;28;01mtry\u001B[39;00m:\n\u001B[1;32m-> 3011\u001B[0m     _result \u001B[38;5;241m=\u001B[39m \u001B[43mpywrap_tfe\u001B[49m\u001B[38;5;241;43m.\u001B[39;49m\u001B[43mTFE_Py_FastPathExecute\u001B[49m\u001B[43m(\u001B[49m\n\u001B[0;32m   3012\u001B[0m \u001B[43m      \u001B[49m\u001B[43m_ctx\u001B[49m\u001B[43m,\u001B[49m\u001B[43m \u001B[49m\u001B[38;5;124;43m\"\u001B[39;49m\u001B[38;5;124;43mIteratorGetNext\u001B[39;49m\u001B[38;5;124;43m\"\u001B[39;49m\u001B[43m,\u001B[49m\u001B[43m \u001B[49m\u001B[43mname\u001B[49m\u001B[43m,\u001B[49m\u001B[43m \u001B[49m\u001B[43miterator\u001B[49m\u001B[43m,\u001B[49m\u001B[43m \u001B[49m\u001B[38;5;124;43m\"\u001B[39;49m\u001B[38;5;124;43moutput_types\u001B[39;49m\u001B[38;5;124;43m\"\u001B[39;49m\u001B[43m,\u001B[49m\u001B[43m \u001B[49m\u001B[43moutput_types\u001B[49m\u001B[43m,\u001B[49m\n\u001B[0;32m   3013\u001B[0m \u001B[43m      \u001B[49m\u001B[38;5;124;43m\"\u001B[39;49m\u001B[38;5;124;43moutput_shapes\u001B[39;49m\u001B[38;5;124;43m\"\u001B[39;49m\u001B[43m,\u001B[49m\u001B[43m \u001B[49m\u001B[43moutput_shapes\u001B[49m\u001B[43m)\u001B[49m\n\u001B[0;32m   3014\u001B[0m     \u001B[38;5;28;01mreturn\u001B[39;00m _result\n\u001B[0;32m   3015\u001B[0m   \u001B[38;5;28;01mexcept\u001B[39;00m _core\u001B[38;5;241m.\u001B[39m_NotOkStatusException \u001B[38;5;28;01mas\u001B[39;00m e:\n",
      "\u001B[1;31mKeyboardInterrupt\u001B[0m: "
     ]
    }
   ],
   "source": [
    "neg, pos = count_bins(full_training_set)\n",
    "print(\"Negative: \", neg)\n",
    "print(\"Positive: \", pos)"
   ],
   "metadata": {
    "collapsed": false
   }
  },
  {
   "cell_type": "code",
   "execution_count": 9,
   "metadata": {
    "id": "ZD-qXoypR31F"
   },
   "outputs": [
    {
     "name": "stdout",
     "output_type": "stream",
     "text": [
      "Negative:  497\n",
      "Positive:  503\n"
     ]
    }
   ],
   "source": [
    "neg, pos = count_bins(training_set)\n",
    "print(\"Negative: \", neg)\n",
    "print(\"Positive: \", pos)"
   ]
  },
  {
   "cell_type": "code",
   "execution_count": 51,
   "metadata": {
    "id": "wr06MIuaWwg6"
   },
   "outputs": [],
   "source": [
    "neg_train_ds = filter_by_target(training_set, 0)\n",
    "pos_train_ds = filter_by_target(training_set, 1)"
   ]
  },
  {
   "cell_type": "code",
   "execution_count": null,
   "metadata": {
    "colab": {
     "base_uri": "https://localhost:8080/",
     "height": 626
    },
    "id": "ogoZ1RR7Ml6s",
    "outputId": "5108be03-58de-4b20-cb40-006514afb374"
   },
   "outputs": [],
   "source": [
    "show_batch(pos_train_ds)"
   ]
  },
  {
   "cell_type": "code",
   "execution_count": 52,
   "metadata": {
    "colab": {
     "base_uri": "https://localhost:8080/"
    },
    "id": "7voLZ3G4Zypa",
    "outputId": "0068fdf3-39c2-4991-e6f2-70bfd241c727"
   },
   "outputs": [
    {
     "name": "stdout",
     "output_type": "stream",
     "text": [
      "Model: \"sequential\"\n",
      "_________________________________________________________________\n",
      " Layer (type)                Output Shape              Param #   \n",
      "=================================================================\n",
      " random_flip (RandomFlip)    (512, 512, 3)             0         \n",
      "                                                                 \n",
      " random_rotation (RandomRota  (512, 512, 3)            0         \n",
      " tion)                                                           \n",
      "                                                                 \n",
      " random_contrast (RandomCont  (512, 512, 3)            0         \n",
      " rast)                                                           \n",
      "                                                                 \n",
      " random_zoom (RandomZoom)    (512, 512, 3)             0         \n",
      "                                                                 \n",
      "=================================================================\n",
      "Total params: 0\n",
      "Trainable params: 0\n",
      "Non-trainable params: 0\n",
      "_________________________________________________________________\n"
     ]
    }
   ],
   "source": [
    "trainAug = tf.keras.Sequential([\n",
    "  # tf.keras.layers.InputLayer(input_shape=)\n",
    "\ttf.keras.layers.RandomFlip(),\n",
    "  tf.keras.layers.RandomRotation(0.5),\n",
    "  tf.keras.layers.RandomContrast(0.5),\n",
    "  tf.keras.layers.RandomZoom(0.2,0.2)\n",
    "])\n",
    "\n",
    "trainAug.build(input_shape=image_shape)\n",
    "\n",
    "trainAug.summary()"
   ]
  },
  {
   "cell_type": "code",
   "execution_count": 53,
   "metadata": {
    "id": "jppznAS0dYoA"
   },
   "outputs": [],
   "source": [
    "aug_pos_ds = pos_train_ds.map(lambda x, y: (trainAug(x), y))\n",
    "aug_pos_ds = aug_pos_ds.repeat(3)"
   ]
  },
  {
   "cell_type": "code",
   "execution_count": null,
   "metadata": {
    "colab": {
     "base_uri": "https://localhost:8080/",
     "height": 660
    },
    "id": "Vbnvf3qTiFJm",
    "outputId": "e0e3ece7-52f8-4117-df09-3fbcf9766c82"
   },
   "outputs": [],
   "source": [
    "neg, pos = count_bins(aug_pos_ds)\n",
    "print(\"Negative: \", neg)\n",
    "print(\"Positive: \", pos)\n",
    "# show_batch(aug_pos_ds)"
   ]
  },
  {
   "cell_type": "code",
   "execution_count": 54,
   "metadata": {
    "id": "KSl_h866hyzG"
   },
   "outputs": [],
   "source": [
    "aug_train_ds = aug_pos_ds.concatenate(neg_train_ds)\n",
    "aug_train_ds = aug_train_ds.shuffle(size)"
   ]
  },
  {
   "cell_type": "code",
   "execution_count": 26,
   "outputs": [],
   "source": [
    "aug_train_ds = training_set.map(lambda x, y: (trainAug(x), y))\n",
    "aug_train_ds = aug_train_ds.repeat(2).shuffle(2000)"
   ],
   "metadata": {
    "collapsed": false
   }
  },
  {
   "cell_type": "code",
   "execution_count": 61,
   "outputs": [
    {
     "name": "stdout",
     "output_type": "stream",
     "text": [
      "Negative:  1497\n",
      "Positive:  1509\n"
     ]
    }
   ],
   "source": [
    "neg, pos = count_bins(aug_train_ds)\n",
    "print(\"Negative: \", neg)\n",
    "print(\"Positive: \", pos)"
   ],
   "metadata": {
    "collapsed": false
   }
  },
  {
   "cell_type": "code",
   "execution_count": 55,
   "metadata": {
    "id": "tqsoJAdshZMc"
   },
   "outputs": [],
   "source": [
    "training_set = aug_train_ds"
   ]
  },
  {
   "cell_type": "markdown",
   "metadata": {
    "id": "zFMKeqB5L5AP"
   },
   "source": [
    "Model Building"
   ]
  },
  {
   "cell_type": "code",
   "execution_count": 56,
   "metadata": {
    "colab": {
     "base_uri": "https://localhost:8080/"
    },
    "id": "NL2cizv4Zuun",
    "outputId": "effb5e90-d2e2-4f0b-f767-93ab7265c107"
   },
   "outputs": [
    {
     "name": "stdout",
     "output_type": "stream",
     "text": [
      "WARNING:tensorflow:`input_shape` is undefined or non-square, or `rows` is not in [128, 160, 192, 224]. Weights for input shape (224, 224) will be loaded as the default.\n"
     ]
    }
   ],
   "source": [
    "from keras.models import Model\n",
    "from keras.applications.mobilenet import MobileNet\n",
    "from keras.layers import Dense, GlobalAveragePooling2D\n",
    "from keras.layers import Input\n",
    "\n",
    "# create the base pre-trained model on ImageNet with a custom input tensor\n",
    "base_model = MobileNet(\n",
    "    input_shape=image_shape,\n",
    "    alpha=1.0,\n",
    "    depth_multiplier=1,\n",
    "    dropout=0.001,\n",
    "    include_top=False,\n",
    "    weights='imagenet',\n",
    "    input_tensor=None,\n",
    "    pooling=None,\n",
    "    classes=1000,\n",
    "    classifier_activation='softmax',)\n",
    "x = base_model.output\n",
    "# Add a global spatial average pooling layer\n",
    "x = GlobalAveragePooling2D()(x)\n",
    "# let's add a fully-connected layer\n",
    "x = Dense(8, activation='relu')(x)\n",
    "# and a logistic layer -- let's say we have 200 classes\n",
    "predictions = Dense(1, activation='sigmoid')(x)\n",
    "\n",
    "# this is the model we will train\n",
    "transfer_model = Model(inputs=base_model.input, outputs=predictions)\n",
    "\n",
    "# first: train only the top layers (which were randomly initialized)\n",
    "# i.e. freeze all convolutional MobileNet layers, alternatively you can freeze the whole base model without a for loop\n",
    "for layer in base_model.layers:\n",
    "    layer.trainable = False"
   ]
  },
  {
   "cell_type": "code",
   "execution_count": 37,
   "metadata": {
    "id": "SsdPFSxYiHEP"
   },
   "outputs": [
    {
     "name": "stdout",
     "output_type": "stream",
     "text": [
      "Model: \"model_3\"\n",
      "_________________________________________________________________\n",
      " Layer (type)                Output Shape              Param #   \n",
      "=================================================================\n",
      " input_4 (InputLayer)        [(None, 512, 512, 3)]     0         \n",
      "                                                                 \n",
      " conv1 (Conv2D)              (None, 256, 256, 32)      864       \n",
      "                                                                 \n",
      " conv1_bn (BatchNormalizatio  (None, 256, 256, 32)     128       \n",
      " n)                                                              \n",
      "                                                                 \n",
      " conv1_relu (ReLU)           (None, 256, 256, 32)      0         \n",
      "                                                                 \n",
      " conv_dw_1 (DepthwiseConv2D)  (None, 256, 256, 32)     288       \n",
      "                                                                 \n",
      " conv_dw_1_bn (BatchNormaliz  (None, 256, 256, 32)     128       \n",
      " ation)                                                          \n",
      "                                                                 \n",
      " conv_dw_1_relu (ReLU)       (None, 256, 256, 32)      0         \n",
      "                                                                 \n",
      " conv_pw_1 (Conv2D)          (None, 256, 256, 64)      2048      \n",
      "                                                                 \n",
      " conv_pw_1_bn (BatchNormaliz  (None, 256, 256, 64)     256       \n",
      " ation)                                                          \n",
      "                                                                 \n",
      " conv_pw_1_relu (ReLU)       (None, 256, 256, 64)      0         \n",
      "                                                                 \n",
      " conv_pad_2 (ZeroPadding2D)  (None, 257, 257, 64)      0         \n",
      "                                                                 \n",
      " conv_dw_2 (DepthwiseConv2D)  (None, 128, 128, 64)     576       \n",
      "                                                                 \n",
      " conv_dw_2_bn (BatchNormaliz  (None, 128, 128, 64)     256       \n",
      " ation)                                                          \n",
      "                                                                 \n",
      " conv_dw_2_relu (ReLU)       (None, 128, 128, 64)      0         \n",
      "                                                                 \n",
      " conv_pw_2 (Conv2D)          (None, 128, 128, 128)     8192      \n",
      "                                                                 \n",
      " conv_pw_2_bn (BatchNormaliz  (None, 128, 128, 128)    512       \n",
      " ation)                                                          \n",
      "                                                                 \n",
      " conv_pw_2_relu (ReLU)       (None, 128, 128, 128)     0         \n",
      "                                                                 \n",
      " conv_dw_3 (DepthwiseConv2D)  (None, 128, 128, 128)    1152      \n",
      "                                                                 \n",
      " conv_dw_3_bn (BatchNormaliz  (None, 128, 128, 128)    512       \n",
      " ation)                                                          \n",
      "                                                                 \n",
      " conv_dw_3_relu (ReLU)       (None, 128, 128, 128)     0         \n",
      "                                                                 \n",
      " conv_pw_3 (Conv2D)          (None, 128, 128, 128)     16384     \n",
      "                                                                 \n",
      " conv_pw_3_bn (BatchNormaliz  (None, 128, 128, 128)    512       \n",
      " ation)                                                          \n",
      "                                                                 \n",
      " conv_pw_3_relu (ReLU)       (None, 128, 128, 128)     0         \n",
      "                                                                 \n",
      " conv_pad_4 (ZeroPadding2D)  (None, 129, 129, 128)     0         \n",
      "                                                                 \n",
      " conv_dw_4 (DepthwiseConv2D)  (None, 64, 64, 128)      1152      \n",
      "                                                                 \n",
      " conv_dw_4_bn (BatchNormaliz  (None, 64, 64, 128)      512       \n",
      " ation)                                                          \n",
      "                                                                 \n",
      " conv_dw_4_relu (ReLU)       (None, 64, 64, 128)       0         \n",
      "                                                                 \n",
      " conv_pw_4 (Conv2D)          (None, 64, 64, 256)       32768     \n",
      "                                                                 \n",
      " conv_pw_4_bn (BatchNormaliz  (None, 64, 64, 256)      1024      \n",
      " ation)                                                          \n",
      "                                                                 \n",
      " conv_pw_4_relu (ReLU)       (None, 64, 64, 256)       0         \n",
      "                                                                 \n",
      " conv_dw_5 (DepthwiseConv2D)  (None, 64, 64, 256)      2304      \n",
      "                                                                 \n",
      " conv_dw_5_bn (BatchNormaliz  (None, 64, 64, 256)      1024      \n",
      " ation)                                                          \n",
      "                                                                 \n",
      " conv_dw_5_relu (ReLU)       (None, 64, 64, 256)       0         \n",
      "                                                                 \n",
      " conv_pw_5 (Conv2D)          (None, 64, 64, 256)       65536     \n",
      "                                                                 \n",
      " conv_pw_5_bn (BatchNormaliz  (None, 64, 64, 256)      1024      \n",
      " ation)                                                          \n",
      "                                                                 \n",
      " conv_pw_5_relu (ReLU)       (None, 64, 64, 256)       0         \n",
      "                                                                 \n",
      " conv_pad_6 (ZeroPadding2D)  (None, 65, 65, 256)       0         \n",
      "                                                                 \n",
      " conv_dw_6 (DepthwiseConv2D)  (None, 32, 32, 256)      2304      \n",
      "                                                                 \n",
      " conv_dw_6_bn (BatchNormaliz  (None, 32, 32, 256)      1024      \n",
      " ation)                                                          \n",
      "                                                                 \n",
      " conv_dw_6_relu (ReLU)       (None, 32, 32, 256)       0         \n",
      "                                                                 \n",
      " conv_pw_6 (Conv2D)          (None, 32, 32, 512)       131072    \n",
      "                                                                 \n",
      " conv_pw_6_bn (BatchNormaliz  (None, 32, 32, 512)      2048      \n",
      " ation)                                                          \n",
      "                                                                 \n",
      " conv_pw_6_relu (ReLU)       (None, 32, 32, 512)       0         \n",
      "                                                                 \n",
      " conv_dw_7 (DepthwiseConv2D)  (None, 32, 32, 512)      4608      \n",
      "                                                                 \n",
      " conv_dw_7_bn (BatchNormaliz  (None, 32, 32, 512)      2048      \n",
      " ation)                                                          \n",
      "                                                                 \n",
      " conv_dw_7_relu (ReLU)       (None, 32, 32, 512)       0         \n",
      "                                                                 \n",
      " conv_pw_7 (Conv2D)          (None, 32, 32, 512)       262144    \n",
      "                                                                 \n",
      " conv_pw_7_bn (BatchNormaliz  (None, 32, 32, 512)      2048      \n",
      " ation)                                                          \n",
      "                                                                 \n",
      " conv_pw_7_relu (ReLU)       (None, 32, 32, 512)       0         \n",
      "                                                                 \n",
      " conv_dw_8 (DepthwiseConv2D)  (None, 32, 32, 512)      4608      \n",
      "                                                                 \n",
      " conv_dw_8_bn (BatchNormaliz  (None, 32, 32, 512)      2048      \n",
      " ation)                                                          \n",
      "                                                                 \n",
      " conv_dw_8_relu (ReLU)       (None, 32, 32, 512)       0         \n",
      "                                                                 \n",
      " conv_pw_8 (Conv2D)          (None, 32, 32, 512)       262144    \n",
      "                                                                 \n",
      " conv_pw_8_bn (BatchNormaliz  (None, 32, 32, 512)      2048      \n",
      " ation)                                                          \n",
      "                                                                 \n",
      " conv_pw_8_relu (ReLU)       (None, 32, 32, 512)       0         \n",
      "                                                                 \n",
      " conv_dw_9 (DepthwiseConv2D)  (None, 32, 32, 512)      4608      \n",
      "                                                                 \n",
      " conv_dw_9_bn (BatchNormaliz  (None, 32, 32, 512)      2048      \n",
      " ation)                                                          \n",
      "                                                                 \n",
      " conv_dw_9_relu (ReLU)       (None, 32, 32, 512)       0         \n",
      "                                                                 \n",
      " conv_pw_9 (Conv2D)          (None, 32, 32, 512)       262144    \n",
      "                                                                 \n",
      " conv_pw_9_bn (BatchNormaliz  (None, 32, 32, 512)      2048      \n",
      " ation)                                                          \n",
      "                                                                 \n",
      " conv_pw_9_relu (ReLU)       (None, 32, 32, 512)       0         \n",
      "                                                                 \n",
      " conv_dw_10 (DepthwiseConv2D  (None, 32, 32, 512)      4608      \n",
      " )                                                               \n",
      "                                                                 \n",
      " conv_dw_10_bn (BatchNormali  (None, 32, 32, 512)      2048      \n",
      " zation)                                                         \n",
      "                                                                 \n",
      " conv_dw_10_relu (ReLU)      (None, 32, 32, 512)       0         \n",
      "                                                                 \n",
      " conv_pw_10 (Conv2D)         (None, 32, 32, 512)       262144    \n",
      "                                                                 \n",
      " conv_pw_10_bn (BatchNormali  (None, 32, 32, 512)      2048      \n",
      " zation)                                                         \n",
      "                                                                 \n",
      " conv_pw_10_relu (ReLU)      (None, 32, 32, 512)       0         \n",
      "                                                                 \n",
      " conv_dw_11 (DepthwiseConv2D  (None, 32, 32, 512)      4608      \n",
      " )                                                               \n",
      "                                                                 \n",
      " conv_dw_11_bn (BatchNormali  (None, 32, 32, 512)      2048      \n",
      " zation)                                                         \n",
      "                                                                 \n",
      " conv_dw_11_relu (ReLU)      (None, 32, 32, 512)       0         \n",
      "                                                                 \n",
      " conv_pw_11 (Conv2D)         (None, 32, 32, 512)       262144    \n",
      "                                                                 \n",
      " conv_pw_11_bn (BatchNormali  (None, 32, 32, 512)      2048      \n",
      " zation)                                                         \n",
      "                                                                 \n",
      " conv_pw_11_relu (ReLU)      (None, 32, 32, 512)       0         \n",
      "                                                                 \n",
      " conv_pad_12 (ZeroPadding2D)  (None, 33, 33, 512)      0         \n",
      "                                                                 \n",
      " conv_dw_12 (DepthwiseConv2D  (None, 16, 16, 512)      4608      \n",
      " )                                                               \n",
      "                                                                 \n",
      " conv_dw_12_bn (BatchNormali  (None, 16, 16, 512)      2048      \n",
      " zation)                                                         \n",
      "                                                                 \n",
      " conv_dw_12_relu (ReLU)      (None, 16, 16, 512)       0         \n",
      "                                                                 \n",
      " conv_pw_12 (Conv2D)         (None, 16, 16, 1024)      524288    \n",
      "                                                                 \n",
      " conv_pw_12_bn (BatchNormali  (None, 16, 16, 1024)     4096      \n",
      " zation)                                                         \n",
      "                                                                 \n",
      " conv_pw_12_relu (ReLU)      (None, 16, 16, 1024)      0         \n",
      "                                                                 \n",
      " conv_dw_13 (DepthwiseConv2D  (None, 16, 16, 1024)     9216      \n",
      " )                                                               \n",
      "                                                                 \n",
      " conv_dw_13_bn (BatchNormali  (None, 16, 16, 1024)     4096      \n",
      " zation)                                                         \n",
      "                                                                 \n",
      " conv_dw_13_relu (ReLU)      (None, 16, 16, 1024)      0         \n",
      "                                                                 \n",
      " conv_pw_13 (Conv2D)         (None, 16, 16, 1024)      1048576   \n",
      "                                                                 \n",
      " conv_pw_13_bn (BatchNormali  (None, 16, 16, 1024)     4096      \n",
      " zation)                                                         \n",
      "                                                                 \n",
      " conv_pw_13_relu (ReLU)      (None, 16, 16, 1024)      0         \n",
      "                                                                 \n",
      " global_average_pooling2d_3   (None, 1024)             0         \n",
      " (GlobalAveragePooling2D)                                        \n",
      "                                                                 \n",
      " dense_6 (Dense)             (None, 8)                 8200      \n",
      "                                                                 \n",
      " dense_7 (Dense)             (None, 1)                 9         \n",
      "                                                                 \n",
      "=================================================================\n",
      "Total params: 3,237,073\n",
      "Trainable params: 8,209\n",
      "Non-trainable params: 3,228,864\n",
      "_________________________________________________________________\n"
     ]
    }
   ],
   "source": [
    "transfer_model.summary()"
   ]
  },
  {
   "cell_type": "code",
   "execution_count": 57,
   "metadata": {
    "id": "-Hp6PucAfpP8"
   },
   "outputs": [],
   "source": [
    "LR = 0.001\n",
    "\n",
    "# compile the model (should be done *after* setting layers to non-trainable)\n",
    "transfer_model.compile(\n",
    "    optimizer=tf.keras.optimizers.Adam(learning_rate=LR),\n",
    "    loss=tf.keras.losses.binary_crossentropy,\n",
    "    metrics=[tf.keras.metrics.BinaryAccuracy(name='accuracy'), tf.keras.metrics.TruePositives(), tf.keras.metrics.TrueNegatives()],\n",
    "    run_eagerly=True\n",
    ")"
   ]
  },
  {
   "cell_type": "code",
   "execution_count": 58,
   "metadata": {
    "id": "s4ZeoxB_hl54"
   },
   "outputs": [],
   "source": [
    "class_weight={0:1.0, 1:1.0}"
   ]
  },
  {
   "cell_type": "code",
   "execution_count": 17,
   "metadata": {
    "colab": {
     "base_uri": "https://localhost:8080/",
     "height": 235
    },
    "id": "eK8KwjhST9HG",
    "outputId": "3bd97489-3fbb-40e0-dfef-8cd966d00aee"
   },
   "outputs": [
    {
     "name": "stdout",
     "output_type": "stream",
     "text": [
      "Weight for class 0: 1.01\n",
      "Weight for class 1: 3.00\n"
     ]
    }
   ],
   "source": [
    "total = neg + pos\n",
    "weight_for_0 = (1 / neg) * (total / 2.0)\n",
    "weight_for_1 = (1 / pos) * (total / 2.0)\n",
    "\n",
    "weight_for_1 = 3\n",
    "\n",
    "class_weight = {0: weight_for_0, 1: weight_for_1}\n",
    "\n",
    "print('Weight for class 0: {:.2f}'.format(weight_for_0))\n",
    "print('Weight for class 1: {:.2f}'.format(weight_for_1))"
   ]
  },
  {
   "cell_type": "code",
   "execution_count": 59,
   "outputs": [],
   "source": [
    "training_set=training_set.batch(batch_size)\n",
    "valid_set = valid_set.batch(batch_size)\n",
    "test_set = test_set.batch(batch_size)"
   ],
   "metadata": {
    "collapsed": false
   }
  },
  {
   "cell_type": "code",
   "execution_count": null,
   "outputs": [
    {
     "name": "stdout",
     "output_type": "stream",
     "text": [
      "Epoch 1/50\n",
      "175/175 [==============================] - 725s 3s/step - loss: 0.5072 - accuracy: 0.7484 - true_positives_4: 832.0000 - true_negatives_4: 1262.0000 - val_loss: 0.5040 - val_accuracy: 0.7485 - val_true_positives_4: 19.0000 - val_true_negatives_4: 1478.0000\n",
      "Epoch 2/50\n",
      "175/175 [==============================] - 762s 4s/step - loss: 0.4360 - accuracy: 0.7911 - true_positives_4: 903.0000 - true_negatives_4: 1312.0000 - val_loss: 0.4817 - val_accuracy: 0.7575 - val_true_positives_4: 22.0000 - val_true_negatives_4: 1493.0000\n",
      "Epoch 3/50\n",
      "175/175 [==============================] - 741s 4s/step - loss: 0.3901 - accuracy: 0.8225 - true_positives_4: 962.0000 - true_negatives_4: 1341.0000 - val_loss: 0.3669 - val_accuracy: 0.8350 - val_true_positives_4: 21.0000 - val_true_negatives_4: 1649.0000\n",
      "Epoch 4/50\n",
      "175/175 [==============================] - 717s 4s/step - loss: 0.3775 - accuracy: 0.8286 - true_positives_4: 976.0000 - true_negatives_4: 1344.0000 - val_loss: 0.4420 - val_accuracy: 0.7960 - val_true_positives_4: 19.0000 - val_true_negatives_4: 1573.0000\n",
      "Epoch 5/50\n",
      "175/175 [==============================] - 724s 4s/step - loss: 0.3699 - accuracy: 0.8300 - true_positives_4: 971.0000 - true_negatives_4: 1353.0000 - val_loss: 0.3633 - val_accuracy: 0.8245 - val_true_positives_4: 19.0000 - val_true_negatives_4: 1630.0000\n",
      "Epoch 6/50\n",
      "175/175 [==============================] - 743s 4s/step - loss: 0.3481 - accuracy: 0.8410 - true_positives_4: 972.0000 - true_negatives_4: 1381.0000 - val_loss: 0.4429 - val_accuracy: 0.7960 - val_true_positives_4: 23.0000 - val_true_negatives_4: 1569.0000\n",
      "Epoch 7/50\n",
      "175/175 [==============================] - 740s 4s/step - loss: 0.3337 - accuracy: 0.8432 - true_positives_4: 1018.0000 - true_negatives_4: 1343.0000 - val_loss: 0.2493 - val_accuracy: 0.8885 - val_true_positives_4: 15.0000 - val_true_negatives_4: 1762.0000\n",
      "Epoch 8/50\n"
     ]
    }
   ],
   "source": [
    "from keras.callbacks import EarlyStopping\n",
    "\n",
    "EPOCHS=50\n",
    "es = EarlyStopping(monitor='val_loss', mode='min', verbose=1, patience=2)\n",
    "history = transfer_model.fit(\n",
    "    training_set,\n",
    "    epochs=EPOCHS,\n",
    "    class_weight=class_weight,\n",
    "    validation_data=valid_set,\n",
    "    callbacks=[es]\n",
    ")"
   ],
   "metadata": {
    "collapsed": false,
    "pycharm": {
     "is_executing": true
    }
   }
  },
  {
   "cell_type": "code",
   "execution_count": null,
   "metadata": {
    "id": "QxvjDz5e8kMD",
    "pycharm": {
     "is_executing": true
    }
   },
   "outputs": [],
   "source": [
    "transfer_model.save(\"Models/normalised\")"
   ]
  },
  {
   "cell_type": "markdown",
   "source": [
    "# Evaluation"
   ],
   "metadata": {
    "collapsed": false
   }
  },
  {
   "cell_type": "code",
   "execution_count": 42,
   "outputs": [
    {
     "name": "stdout",
     "output_type": "stream",
     "text": [
      "None\n"
     ]
    }
   ],
   "source": [
    "fit_model = tf.keras.models.load_model(\"Models/normalised\")\n",
    "fit_model.summary()"
   ],
   "metadata": {
    "collapsed": false
   }
  },
  {
   "cell_type": "code",
   "execution_count": 33,
   "outputs": [
    {
     "name": "stdout",
     "output_type": "stream",
     "text": [
      "<TakeDataset element_spec=(TensorSpec(shape=(512, 512, 3), dtype=tf.float32, name=None), TensorSpec(shape=(), dtype=tf.int64, name=None))>\n"
     ]
    }
   ],
   "source": [
    "print(valid_set)"
   ],
   "metadata": {
    "collapsed": false
   }
  },
  {
   "cell_type": "code",
   "execution_count": 34,
   "outputs": [
    {
     "ename": "AttributeError",
     "evalue": "'NoneType' object has no attribute 'predict'",
     "output_type": "error",
     "traceback": [
      "\u001B[1;31m---------------------------------------------------------------------------\u001B[0m",
      "\u001B[1;31mAttributeError\u001B[0m                            Traceback (most recent call last)",
      "Cell \u001B[1;32mIn [34], line 1\u001B[0m\n\u001B[1;32m----> 1\u001B[0m y_pred \u001B[38;5;241m=\u001B[39m \u001B[43mtransfer_model\u001B[49m\u001B[38;5;241;43m.\u001B[39;49m\u001B[43mpredict\u001B[49m(valid_set)\n",
      "\u001B[1;31mAttributeError\u001B[0m: 'NoneType' object has no attribute 'predict'"
     ]
    }
   ],
   "source": [
    "y_pred = transfer_model.predict(valid_set)"
   ],
   "metadata": {
    "collapsed": false
   }
  },
  {
   "cell_type": "code",
   "execution_count": null,
   "outputs": [],
   "source": [
    "y_true = np.concatenate([y for x, y in ds], axis=0)"
   ],
   "metadata": {
    "collapsed": false
   }
  },
  {
   "cell_type": "code",
   "execution_count": null,
   "outputs": [],
   "source": [
    "from sklearn.metrics import confusion_matrix\n",
    "\n",
    "cm = confusion_matrix(y_true, y_pred)\n",
    "tn, fp, fn, tp = cm.ravel()"
   ],
   "metadata": {
    "collapsed": false
   }
  },
  {
   "cell_type": "code",
   "execution_count": null,
   "outputs": [],
   "source": [
    "import seaborn as sns\n",
    "sns.heatmap(cm/np.sum(cm), annot=True,\n",
    "            fmt='.2%', cmap='Blues')\n",
    "plt.savefig('confusionmatrix.png')"
   ],
   "metadata": {
    "collapsed": false
   }
  },
  {
   "cell_type": "code",
   "execution_count": null,
   "outputs": [],
   "source": [
    "from sklearn.metrics import RocCurveDisplay\n",
    "RocCurveDisplay.from_predictions(y_true, y_pred)\n",
    "plt.show()\n",
    "plt.savefig('roccurve.png')"
   ],
   "metadata": {
    "collapsed": false
   }
  },
  {
   "cell_type": "code",
   "execution_count": null,
   "outputs": [],
   "source": [
    "from sklearn.metrics import roc_auc_score\n",
    "roc_auc_score(y_true, y_pred)"
   ],
   "metadata": {
    "collapsed": false
   }
  },
  {
   "cell_type": "code",
   "execution_count": null,
   "outputs": [],
   "source": [
    "tn, fp, fn, tp = cm.ravel()\n",
    "\n",
    "false_positive_rate = fp / (fp + tn)\n",
    "false_negative_rate = fn / (tp + fn)\n",
    "true_negative_rate = tn / (tn + fp)\n",
    "\n",
    "negative_predictive_value = tn/ (tn + fn)\n",
    "false_discovery_rate = fp/ (tp + fp)\n",
    "\n",
    "true_positive_rate = tp / (tp + fn)\n",
    "positive_predictive_value = tp/ (tp + fp)"
   ],
   "metadata": {
    "collapsed": false
   }
  }
 ],
 "metadata": {
  "accelerator": "TPU",
  "colab": {
   "authorship_tag": "ABX9TyOUe7660UOU61W1QYg05IVV",
   "include_colab_link": true,
   "mount_file_id": "1cM3bR-0P94FkN7aEzx2QVxEV-a0Sxm_0",
   "provenance": []
  },
  "gpuClass": "standard",
  "kernelspec": {
   "display_name": "Python 3 (ipykernel)",
   "language": "python",
   "name": "python3"
  },
  "language_info": {
   "codemirror_mode": {
    "name": "ipython",
    "version": 3
   },
   "file_extension": ".py",
   "mimetype": "text/x-python",
   "name": "python",
   "nbconvert_exporter": "python",
   "pygments_lexer": "ipython3",
   "version": "3.10.8"
  }
 },
 "nbformat": 4,
 "nbformat_minor": 1
}
